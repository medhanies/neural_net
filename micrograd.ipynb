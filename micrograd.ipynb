{
 "cells": [
  {
   "cell_type": "markdown",
   "metadata": {},
   "source": [
    "### Building micrograd from scratch"
   ]
  },
  {
   "cell_type": "code",
   "execution_count": 38,
   "metadata": {},
   "outputs": [],
   "source": [
    "import math\n",
    "import numpy as np\n",
    "import matplotlib.pyplot as plt\n",
    "%matplotlib inline"
   ]
  },
  {
   "cell_type": "code",
   "execution_count": 1,
   "metadata": {},
   "outputs": [],
   "source": [
    "def f(x):\n",
    "    return 3*x**2 - 4*x + 5"
   ]
  },
  {
   "cell_type": "code",
   "execution_count": 2,
   "metadata": {},
   "outputs": [
    {
     "data": {
      "text/plain": [
       "20"
      ]
     },
     "execution_count": 2,
     "metadata": {},
     "output_type": "execute_result"
    }
   ],
   "source": [
    "f(3)"
   ]
  },
  {
   "cell_type": "code",
   "execution_count": 5,
   "metadata": {},
   "outputs": [
    {
     "data": {
      "text/plain": [
       "[<matplotlib.lines.Line2D at 0x10783f710>]"
      ]
     },
     "execution_count": 5,
     "metadata": {},
     "output_type": "execute_result"
    },
    {
     "data": {
      "image/png": "[encoded data removed]",
      "text/plain": [
       "<Figure size 640x480 with 1 Axes>"
      ]
     },
     "metadata": {},
     "output_type": "display_data"
    }
   ],
   "source": [
    "xs = np.arange(-5,5,0.25)\n",
    "ys = f(xs)\n",
    "plt.plot(xs,ys)"
   ]
  },
  {
   "cell_type": "code",
   "execution_count": 17,
   "metadata": {},
   "outputs": [
    {
     "data": {
      "text/plain": [
       "0.0"
      ]
     },
     "execution_count": 17,
     "metadata": {},
     "output_type": "execute_result"
    }
   ],
   "source": [
    "h = 0.00000001\n",
    "x = 2/3\n",
    "(f(x+h) - f(x))/h"
   ]
  },
  {
   "cell_type": "code",
   "execution_count": 18,
   "metadata": {},
   "outputs": [
    {
     "data": {
      "text/plain": [
       "4.0"
      ]
     },
     "execution_count": 18,
     "metadata": {},
     "output_type": "execute_result"
    }
   ],
   "source": [
    "a = 2.0\n",
    "b = -3.0\n",
    "c = 10.0\n",
    "d = a*b + c\n",
    "d"
   ]
  },
  {
   "cell_type": "code",
   "execution_count": 21,
   "metadata": {},
   "outputs": [
    {
     "name": "stdout",
     "output_type": "stream",
     "text": [
      "d1 4.0\n",
      "d2 4.0001\n",
      "slope 0.9999999999976694\n"
     ]
    }
   ],
   "source": [
    "h = 0.0001\n",
    "\n",
    "# inputs\n",
    "a = 2.0\n",
    "b = -3.0\n",
    "c = 10.0\n",
    "\n",
    "d1 = a*b + c\n",
    "c += h\n",
    "d2 = a*b + c\n",
    "print('d1', d1)\n",
    "print('d2', d2)\n",
    "print('slope', (d2 - d1)/h)"
   ]
  },
  {
   "cell_type": "code",
   "execution_count": 160,
   "metadata": {},
   "outputs": [],
   "source": [
    "class Value:\n",
    "\n",
    "    def __init__(self, data, _children=(), _op='', label=''):\n",
    "        self.data = data\n",
    "        self.grad = 0.0\n",
    "        self._backward = lambda: None\n",
    "        self._prev = set(_children)\n",
    "        self._op = _op\n",
    "        self.label = label\n",
    "\n",
    "    def __repr__(self) -> str:\n",
    "        return f\"Value(data={self.data})\"\n",
    "\n",
    "    def __add__(self, other):\n",
    "        other = other if isinstance(other, Value) else Value(other)\n",
    "        out = Value(self.data + other.data, (self, other), '+')\n",
    "\n",
    "        def _backward():\n",
    "            self.grad += 1.0 * out.grad\n",
    "            other.grad += 1.0 * out.grad\n",
    "        out._backward = _backward\n",
    "\n",
    "        return out\n",
    "\n",
    "    def __mul__(self, other):\n",
    "        other = other if isinstance(other, Value) else Value(other)\n",
    "        out = Value(self.data * other.data, (self, other), '*')\n",
    "\n",
    "        def _backward():\n",
    "            self.grad += other.data * out.grad\n",
    "            other.grad += self.data * out.grad\n",
    "\n",
    "        out._backward = _backward\n",
    "\n",
    "        return out\n",
    "\n",
    "    def __rmul__(self, other): # other + self\n",
    "        return self + other\n",
    "\n",
    "    def __truediv__(self, other): # self / other\n",
    "        return self * other**-1\n",
    "\n",
    "    def tanh(self):\n",
    "        x = self.data\n",
    "        t = (math.exp(2*x) - 1)/(math.exp(2*x) + 1)\n",
    "        out = Value(t, (self, ), 'tanh')\n",
    "\n",
    "        def _backward():\n",
    "            self.grad += (1 - t**2) * out.grad\n",
    "        out._backward = _backward\n",
    "\n",
    "        return out\n",
    "\n",
    "    def exp(self):\n",
    "        x = self.data\n",
    "        out = Value(math.exp(x), (self, ), 'exp')\n",
    "\n",
    "        def _backward():\n",
    "            self.grad += out.data * out.grad\n",
    "            out._backward = _backward\n",
    "\n",
    "            return out\n",
    "\n",
    "    def backward(self):\n",
    "\n",
    "        topo = []\n",
    "        visited = set()\n",
    "        def build_topo(v):\n",
    "            if v not in visited:\n",
    "                visited.add(v)\n",
    "                for child in v._prev:\n",
    "                    build_topo(child)\n",
    "                topo.append(v)\n",
    "        build_topo(self)\n",
    "\n",
    "        o.grad = 1.0\n",
    "        for node in reversed(topo):\n",
    "            node._backward()\n",
    "\n",
    "# a = Value(2.0, label='a')\n",
    "# b = Value(-3.0, label='b')\n",
    "# c = Value(10.0, label='c')\n",
    "# e = a*b; e.label= 'e'\n",
    "# d = e + c; d.label = 'd'\n",
    "# f = Value(-2.0, label='f')\n",
    "# L = d * f; L.label='L'\n",
    "# L"
   ]
  },
  {
   "cell_type": "code",
   "execution_count": 159,
   "metadata": {},
   "outputs": [
    {
     "data": {
      "text/plain": [
       "Value(data=4.0)"
      ]
     },
     "execution_count": 159,
     "metadata": {},
     "output_type": "execute_result"
    }
   ],
   "source": [
    "a = Value(2.0)\n",
    "2*a"
   ]
  },
  {
   "cell_type": "code",
   "execution_count": 138,
   "metadata": {},
   "outputs": [],
   "source": [
    "from graphviz import Digraph\n",
    "\n",
    "def trace(root):\n",
    "    # builds a set of all nodes and edges in a graph\n",
    "    nodes, edges = set(), set()\n",
    "    def build(v):\n",
    "        if v not in nodes:\n",
    "            nodes.add(v)\n",
    "            for child in v._prev:\n",
    "                edges.add((child, v))\n",
    "                build(child)\n",
    "    build(root)\n",
    "    return nodes, edges\n",
    "\n",
    "def draw_dot(root):\n",
    "    dot = Digraph(format='svg', graph_attr={'rankdir': 'LR'}) # LR = left to right\n",
    "\n",
    "    nodes, edges = trace(root)\n",
    "    for n in nodes:\n",
    "        uid = str(id(n))\n",
    "        # for any value in the graph, create a rectangular ('record') node for it\n",
    "        dot.node(name = uid, label = \"{ %s | data %.4f | grad %.4f }\" % (n.label, n.data, n.grad), shape='record')\n",
    "        if n._op:\n",
    "            # if this value is a resultof some operation, create an op node for it\n",
    "            dot.node(name = uid + n._op, label = n._op)\n",
    "            # and connect this node to it\n",
    "            dot.edge(uid + n._op, uid)\n",
    "\n",
    "    for n1, n2 in edges:\n",
    "        # connect n1 to the op node of n2\n",
    "        dot.edge(str(id(n1)), str(id(n2)) + n2._op)\n",
    "\n",
    "    return dot"
   ]
  },
  {
   "cell_type": "code",
   "execution_count": 16,
   "metadata": {},
   "outputs": [],
   "source": [
    "L.grad = 1.0"
   ]
  },
  {
   "cell_type": "code",
   "execution_count": 33,
   "metadata": {},
   "outputs": [
    {
     "data": {
      "image/svg+xml": [
       "<?xml version=\"1.0\" encoding=\"UTF-8\" standalone=\"no\"?>\n",
       "<!DOCTYPE svg PUBLIC \"-//W3C//DTD SVG 1.1//EN\"\n",
       " \"http://www.w3.org/Graphics/SVG/1.1/DTD/svg11.dtd\">\n",
       "<!-- Generated by graphviz version 9.0.0 (20230911.1827)\n",
       " -->\n",
       "<!-- Pages: 1 -->\n",
       "<svg width=\"1138pt\" height=\"154pt\"\n",
       " viewBox=\"0.00 0.00 1137.50 154.00\" xmlns=\"http://www.w3.org/2000/svg\" xmlns:xlink=\"http://www.w3.org/1999/xlink\">\n",
       "<g id=\"graph0\" class=\"graph\" transform=\"scale(1 1) rotate(0) translate(4 150)\">\n",
       "<polygon fill=\"white\" stroke=\"none\" points=\"-4,4 -4,-150 1133.5,-150 1133.5,4 -4,4\"/>\n",
       "<!-- 4872969744 -->\n",
       "<g id=\"node1\" class=\"node\">\n",
       "<title>4872969744</title>\n",
       "<polygon fill=\"none\" stroke=\"black\" points=\"319.88,-27.5 319.88,-63.5 505.12,-63.5 505.12,-27.5 319.88,-27.5\"/>\n",
       "<text text-anchor=\"middle\" x=\"329.75\" y=\"-40.7\" font-family=\"Times,serif\" font-size=\"14.00\"> </text>\n",
       "<polyline fill=\"none\" stroke=\"black\" points=\"339.62,-28 339.62,-63.5\"/>\n",
       "<text text-anchor=\"middle\" x=\"381.75\" y=\"-40.7\" font-family=\"Times,serif\" font-size=\"14.00\">data &#45;6.8016</text>\n",
       "<polyline fill=\"none\" stroke=\"black\" points=\"423.88,-28 423.88,-63.5\"/>\n",
       "<text text-anchor=\"middle\" x=\"464.5\" y=\"-40.7\" font-family=\"Times,serif\" font-size=\"14.00\">grad 0.0000</text>\n",
       "</g>\n",
       "<!-- 4872967120+ -->\n",
       "<g id=\"node10\" class=\"node\">\n",
       "<title>4872967120+</title>\n",
       "<ellipse fill=\"none\" stroke=\"black\" cx=\"569.25\" cy=\"-72.5\" rx=\"27\" ry=\"18\"/>\n",
       "<text text-anchor=\"middle\" x=\"569.25\" y=\"-67.45\" font-family=\"Times,serif\" font-size=\"14.00\">+</text>\n",
       "</g>\n",
       "<!-- 4872969744&#45;&gt;4872967120+ -->\n",
       "<g id=\"edge4\" class=\"edge\">\n",
       "<title>4872969744&#45;&gt;4872967120+</title>\n",
       "<path fill=\"none\" stroke=\"black\" d=\"M505.31,-61.52C514.49,-63.12 523.39,-64.67 531.47,-66.08\"/>\n",
       "<polygon fill=\"black\" stroke=\"black\" points=\"530.71,-69.5 541.16,-67.77 531.91,-62.61 530.71,-69.5\"/>\n",
       "</g>\n",
       "<!-- 4872969744* -->\n",
       "<g id=\"node2\" class=\"node\">\n",
       "<title>4872969744*</title>\n",
       "<ellipse fill=\"none\" stroke=\"black\" cx=\"255.75\" cy=\"-45.5\" rx=\"27\" ry=\"18\"/>\n",
       "<text text-anchor=\"middle\" x=\"255.75\" y=\"-40.45\" font-family=\"Times,serif\" font-size=\"14.00\">*</text>\n",
       "</g>\n",
       "<!-- 4872969744*&#45;&gt;4872969744 -->\n",
       "<g id=\"edge1\" class=\"edge\">\n",
       "<title>4872969744*&#45;&gt;4872969744</title>\n",
       "<path fill=\"none\" stroke=\"black\" d=\"M283,-45.5C290.42,-45.5 298.97,-45.5 308.07,-45.5\"/>\n",
       "<polygon fill=\"black\" stroke=\"black\" points=\"307.88,-49 317.88,-45.5 307.88,-42 307.88,-49\"/>\n",
       "</g>\n",
       "<!-- 4872483920 -->\n",
       "<g id=\"node3\" class=\"node\">\n",
       "<title>4872483920</title>\n",
       "<polygon fill=\"none\" stroke=\"black\" points=\"632.25,-109.5 632.25,-145.5 818.25,-145.5 818.25,-109.5 632.25,-109.5\"/>\n",
       "<text text-anchor=\"middle\" x=\"642.5\" y=\"-122.7\" font-family=\"Times,serif\" font-size=\"14.00\">f</text>\n",
       "<polyline fill=\"none\" stroke=\"black\" points=\"652.75,-110 652.75,-145.5\"/>\n",
       "<text text-anchor=\"middle\" x=\"694.88\" y=\"-122.7\" font-family=\"Times,serif\" font-size=\"14.00\">data &#45;1.8800</text>\n",
       "<polyline fill=\"none\" stroke=\"black\" points=\"737,-110 737,-145.5\"/>\n",
       "<text text-anchor=\"middle\" x=\"777.62\" y=\"-122.7\" font-family=\"Times,serif\" font-size=\"14.00\">grad 4.0000</text>\n",
       "</g>\n",
       "<!-- 4872967632* -->\n",
       "<g id=\"node8\" class=\"node\">\n",
       "<title>4872967632*</title>\n",
       "<ellipse fill=\"none\" stroke=\"black\" cx=\"881.25\" cy=\"-99.5\" rx=\"27\" ry=\"18\"/>\n",
       "<text text-anchor=\"middle\" x=\"881.25\" y=\"-94.45\" font-family=\"Times,serif\" font-size=\"14.00\">*</text>\n",
       "</g>\n",
       "<!-- 4872483920&#45;&gt;4872967632* -->\n",
       "<g id=\"edge5\" class=\"edge\">\n",
       "<title>4872483920&#45;&gt;4872967632*</title>\n",
       "<path fill=\"none\" stroke=\"black\" d=\"M818.5,-110.73C827.35,-109.12 835.92,-107.56 843.71,-106.14\"/>\n",
       "<polygon fill=\"black\" stroke=\"black\" points=\"844.18,-109.62 853.4,-104.38 842.93,-102.73 844.18,-109.62\"/>\n",
       "</g>\n",
       "<!-- 4859697872 -->\n",
       "<g id=\"node4\" class=\"node\">\n",
       "<title>4859697872</title>\n",
       "<polygon fill=\"none\" stroke=\"black\" points=\"4.88,-55.5 4.88,-91.5 187.88,-91.5 187.88,-55.5 4.88,-55.5\"/>\n",
       "<text text-anchor=\"middle\" x=\"15.88\" y=\"-68.7\" font-family=\"Times,serif\" font-size=\"14.00\">a</text>\n",
       "<polyline fill=\"none\" stroke=\"black\" points=\"26.88,-56 26.88,-91.5\"/>\n",
       "<text text-anchor=\"middle\" x=\"66.75\" y=\"-68.7\" font-family=\"Times,serif\" font-size=\"14.00\">data 2.1800</text>\n",
       "<polyline fill=\"none\" stroke=\"black\" points=\"106.62,-56 106.62,-91.5\"/>\n",
       "<text text-anchor=\"middle\" x=\"147.25\" y=\"-68.7\" font-family=\"Times,serif\" font-size=\"14.00\">grad 6.0000</text>\n",
       "</g>\n",
       "<!-- 4859697872&#45;&gt;4872969744* -->\n",
       "<g id=\"edge7\" class=\"edge\">\n",
       "<title>4859697872&#45;&gt;4872969744*</title>\n",
       "<path fill=\"none\" stroke=\"black\" d=\"M188.01,-57.37C198.67,-55.48 209.04,-53.63 218.3,-51.99\"/>\n",
       "<polygon fill=\"black\" stroke=\"black\" points=\"218.65,-55.48 227.88,-50.28 217.42,-48.59 218.65,-55.48\"/>\n",
       "</g>\n",
       "<!-- 4871602128 -->\n",
       "<g id=\"node5\" class=\"node\">\n",
       "<title>4871602128</title>\n",
       "<polygon fill=\"none\" stroke=\"black\" points=\"318.75,-82.5 318.75,-118.5 506.25,-118.5 506.25,-82.5 318.75,-82.5\"/>\n",
       "<text text-anchor=\"middle\" x=\"329.75\" y=\"-95.7\" font-family=\"Times,serif\" font-size=\"14.00\">c</text>\n",
       "<polyline fill=\"none\" stroke=\"black\" points=\"340.75,-83 340.75,-118.5\"/>\n",
       "<text text-anchor=\"middle\" x=\"380.62\" y=\"-95.7\" font-family=\"Times,serif\" font-size=\"14.00\">data 9.9400</text>\n",
       "<polyline fill=\"none\" stroke=\"black\" points=\"420.5,-83 420.5,-118.5\"/>\n",
       "<text text-anchor=\"middle\" x=\"463.38\" y=\"-95.7\" font-family=\"Times,serif\" font-size=\"14.00\">grad &#45;2.0000</text>\n",
       "</g>\n",
       "<!-- 4871602128&#45;&gt;4872967120+ -->\n",
       "<g id=\"edge8\" class=\"edge\">\n",
       "<title>4871602128&#45;&gt;4872967120+</title>\n",
       "<path fill=\"none\" stroke=\"black\" d=\"M506.64,-83.65C515.4,-82.06 523.88,-80.53 531.59,-79.13\"/>\n",
       "<polygon fill=\"black\" stroke=\"black\" points=\"531.96,-82.62 541.18,-77.4 530.71,-75.73 531.96,-82.62\"/>\n",
       "</g>\n",
       "<!-- 4859696016 -->\n",
       "<g id=\"node6\" class=\"node\">\n",
       "<title>4859696016</title>\n",
       "<polygon fill=\"none\" stroke=\"black\" points=\"0,-0.5 0,-36.5 192.75,-36.5 192.75,-0.5 0,-0.5\"/>\n",
       "<text text-anchor=\"middle\" x=\"11.38\" y=\"-13.7\" font-family=\"Times,serif\" font-size=\"14.00\">b</text>\n",
       "<polyline fill=\"none\" stroke=\"black\" points=\"22.75,-1 22.75,-36.5\"/>\n",
       "<text text-anchor=\"middle\" x=\"64.88\" y=\"-13.7\" font-family=\"Times,serif\" font-size=\"14.00\">data &#45;3.1200</text>\n",
       "<polyline fill=\"none\" stroke=\"black\" points=\"107,-1 107,-36.5\"/>\n",
       "<text text-anchor=\"middle\" x=\"149.88\" y=\"-13.7\" font-family=\"Times,serif\" font-size=\"14.00\">grad &#45;4.0000</text>\n",
       "</g>\n",
       "<!-- 4859696016&#45;&gt;4872969744* -->\n",
       "<g id=\"edge6\" class=\"edge\">\n",
       "<title>4859696016&#45;&gt;4872969744*</title>\n",
       "<path fill=\"none\" stroke=\"black\" d=\"M193,-34.91C201.81,-36.42 210.32,-37.88 218.06,-39.2\"/>\n",
       "<polygon fill=\"black\" stroke=\"black\" points=\"217.21,-42.61 227.66,-40.85 218.4,-35.71 217.21,-42.61\"/>\n",
       "</g>\n",
       "<!-- 4872967632 -->\n",
       "<g id=\"node7\" class=\"node\">\n",
       "<title>4872967632</title>\n",
       "<polygon fill=\"none\" stroke=\"black\" points=\"944.25,-81.5 944.25,-117.5 1129.5,-117.5 1129.5,-81.5 944.25,-81.5\"/>\n",
       "<text text-anchor=\"middle\" x=\"954.12\" y=\"-94.7\" font-family=\"Times,serif\" font-size=\"14.00\"> </text>\n",
       "<polyline fill=\"none\" stroke=\"black\" points=\"964,-82 964,-117.5\"/>\n",
       "<text text-anchor=\"middle\" x=\"1006.12\" y=\"-94.7\" font-family=\"Times,serif\" font-size=\"14.00\">data &#45;5.9002</text>\n",
       "<polyline fill=\"none\" stroke=\"black\" points=\"1048.25,-82 1048.25,-117.5\"/>\n",
       "<text text-anchor=\"middle\" x=\"1088.88\" y=\"-94.7\" font-family=\"Times,serif\" font-size=\"14.00\">grad 0.0000</text>\n",
       "</g>\n",
       "<!-- 4872967632*&#45;&gt;4872967632 -->\n",
       "<g id=\"edge2\" class=\"edge\">\n",
       "<title>4872967632*&#45;&gt;4872967632</title>\n",
       "<path fill=\"none\" stroke=\"black\" d=\"M908.66,-99.5C915.7,-99.5 923.75,-99.5 932.3,-99.5\"/>\n",
       "<polygon fill=\"black\" stroke=\"black\" points=\"932.29,-103 942.29,-99.5 932.29,-96 932.29,-103\"/>\n",
       "</g>\n",
       "<!-- 4872967120 -->\n",
       "<g id=\"node9\" class=\"node\">\n",
       "<title>4872967120</title>\n",
       "<polygon fill=\"none\" stroke=\"black\" points=\"634.88,-54.5 634.88,-90.5 815.62,-90.5 815.62,-54.5 634.88,-54.5\"/>\n",
       "<text text-anchor=\"middle\" x=\"644.75\" y=\"-67.7\" font-family=\"Times,serif\" font-size=\"14.00\"> </text>\n",
       "<polyline fill=\"none\" stroke=\"black\" points=\"654.62,-55 654.62,-90.5\"/>\n",
       "<text text-anchor=\"middle\" x=\"694.5\" y=\"-67.7\" font-family=\"Times,serif\" font-size=\"14.00\">data 3.1384</text>\n",
       "<polyline fill=\"none\" stroke=\"black\" points=\"734.38,-55 734.38,-90.5\"/>\n",
       "<text text-anchor=\"middle\" x=\"775\" y=\"-67.7\" font-family=\"Times,serif\" font-size=\"14.00\">grad 0.0000</text>\n",
       "</g>\n",
       "<!-- 4872967120&#45;&gt;4872967632* -->\n",
       "<g id=\"edge9\" class=\"edge\">\n",
       "<title>4872967120&#45;&gt;4872967632*</title>\n",
       "<path fill=\"none\" stroke=\"black\" d=\"M815.83,-88.21C825.46,-89.89 834.81,-91.53 843.27,-93.02\"/>\n",
       "<polygon fill=\"black\" stroke=\"black\" points=\"842.63,-96.46 853.09,-94.74 843.84,-89.56 842.63,-96.46\"/>\n",
       "</g>\n",
       "<!-- 4872967120+&#45;&gt;4872967120 -->\n",
       "<g id=\"edge3\" class=\"edge\">\n",
       "<title>4872967120+&#45;&gt;4872967120</title>\n",
       "<path fill=\"none\" stroke=\"black\" d=\"M596.72,-72.5C604.51,-72.5 613.53,-72.5 623.11,-72.5\"/>\n",
       "<polygon fill=\"black\" stroke=\"black\" points=\"623.05,-76 633.05,-72.5 623.05,-69 623.05,-76\"/>\n",
       "</g>\n",
       "</g>\n",
       "</svg>\n"
      ],
      "text/plain": [
       "<graphviz.graphs.Digraph at 0x122738110>"
      ]
     },
     "execution_count": 33,
     "metadata": {},
     "output_type": "execute_result"
    }
   ],
   "source": [
    "draw_dot(L)"
   ]
  },
  {
   "cell_type": "code",
   "execution_count": null,
   "metadata": {},
   "outputs": [],
   "source": []
  },
  {
   "cell_type": "code",
   "execution_count": 32,
   "metadata": {},
   "outputs": [],
   "source": [
    "a.data += 0.01 * a.grad\n",
    "b.data += 0.01 * b.grad\n",
    "c.data += 0.01 * c.grad\n",
    "f.data += 0.01 * f.grad\n",
    "\n",
    "e = a*b\n",
    "d = e+c\n",
    "L=f*d"
   ]
  },
  {
   "cell_type": "code",
   "execution_count": 144,
   "metadata": {},
   "outputs": [],
   "source": [
    "# another way to look at it\n",
    "# inputs x1, x2\n",
    "x1 = Value(2.0, label='x1')\n",
    "x2 = Value(0.0, label='x2')\n",
    "# weights w1,w2\n",
    "w1 = Value(-3.0, label='w1')\n",
    "w2 = Value(1.0, label='w2')\n",
    "# bias of the neuron\n",
    "b = Value(6.7, label='b')\n",
    "# x1w1 + x2w2 + b\n",
    "x1w1 = x1*w1; x1w1.label = 'x1*w1'\n",
    "x2w2 = x2*w2; x2w2.label = 'x2*w2'\n",
    "x1w1x2w2 = x1w1 + x2w2; x1w1x2w2.label = 'x1w1 + x2w2'\n",
    "n = x1w1x2w2 + b; n.label = 'n'\n",
    "o = n.tanh(); o.label = 'o'\n"
   ]
  },
  {
   "cell_type": "code",
   "execution_count": 147,
   "metadata": {},
   "outputs": [
    {
     "data": {
      "image/svg+xml": [
       "<?xml version=\"1.0\" encoding=\"UTF-8\" standalone=\"no\"?>\n",
       "<!DOCTYPE svg PUBLIC \"-//W3C//DTD SVG 1.1//EN\"\n",
       " \"http://www.w3.org/Graphics/SVG/1.1/DTD/svg11.dtd\">\n",
       "<!-- Generated by graphviz version 9.0.0 (20230911.1827)\n",
       " -->\n",
       "<!-- Pages: 1 -->\n",
       "<svg width=\"1553pt\" height=\"210pt\"\n",
       " viewBox=\"0.00 0.00 1553.00 210.00\" xmlns=\"http://www.w3.org/2000/svg\" xmlns:xlink=\"http://www.w3.org/1999/xlink\">\n",
       "<g id=\"graph0\" class=\"graph\" transform=\"scale(1 1) rotate(0) translate(4 206)\">\n",
       "<polygon fill=\"white\" stroke=\"none\" points=\"-4,4 -4,-206 1549,-206 1549,4 -4,4\"/>\n",
       "<!-- 4953350224 -->\n",
       "<g id=\"node1\" class=\"node\">\n",
       "<title>4953350224</title>\n",
       "<polygon fill=\"none\" stroke=\"black\" points=\"1361.25,-54.5 1361.25,-90.5 1545,-90.5 1545,-54.5 1361.25,-54.5\"/>\n",
       "<text text-anchor=\"middle\" x=\"1372.62\" y=\"-67.7\" font-family=\"Times,serif\" font-size=\"14.00\">o</text>\n",
       "<polyline fill=\"none\" stroke=\"black\" points=\"1384,-55 1384,-90.5\"/>\n",
       "<text text-anchor=\"middle\" x=\"1423.88\" y=\"-67.7\" font-family=\"Times,serif\" font-size=\"14.00\">data 0.6044</text>\n",
       "<polyline fill=\"none\" stroke=\"black\" points=\"1463.75,-55 1463.75,-90.5\"/>\n",
       "<text text-anchor=\"middle\" x=\"1504.38\" y=\"-67.7\" font-family=\"Times,serif\" font-size=\"14.00\">grad 1.0000</text>\n",
       "</g>\n",
       "<!-- 4953350224tanh -->\n",
       "<g id=\"node2\" class=\"node\">\n",
       "<title>4953350224tanh</title>\n",
       "<ellipse fill=\"none\" stroke=\"black\" cx=\"1298.25\" cy=\"-72.5\" rx=\"27\" ry=\"18\"/>\n",
       "<text text-anchor=\"middle\" x=\"1298.25\" y=\"-67.45\" font-family=\"Times,serif\" font-size=\"14.00\">tanh</text>\n",
       "</g>\n",
       "<!-- 4953350224tanh&#45;&gt;4953350224 -->\n",
       "<g id=\"edge1\" class=\"edge\">\n",
       "<title>4953350224tanh&#45;&gt;4953350224</title>\n",
       "<path fill=\"none\" stroke=\"black\" d=\"M1325.53,-72.5C1332.67,-72.5 1340.86,-72.5 1349.57,-72.5\"/>\n",
       "<polygon fill=\"black\" stroke=\"black\" points=\"1349.31,-76 1359.31,-72.5 1349.31,-69 1349.31,-76\"/>\n",
       "</g>\n",
       "<!-- 4953344080 -->\n",
       "<g id=\"node3\" class=\"node\">\n",
       "<title>4953344080</title>\n",
       "<polygon fill=\"none\" stroke=\"black\" points=\"668.25,-82.5 668.25,-118.5 925.5,-118.5 925.5,-82.5 668.25,-82.5\"/>\n",
       "<text text-anchor=\"middle\" x=\"714.12\" y=\"-95.7\" font-family=\"Times,serif\" font-size=\"14.00\">x1w1 + x2w2</text>\n",
       "<polyline fill=\"none\" stroke=\"black\" points=\"760,-83 760,-118.5\"/>\n",
       "<text text-anchor=\"middle\" x=\"802.12\" y=\"-95.7\" font-family=\"Times,serif\" font-size=\"14.00\">data &#45;6.0000</text>\n",
       "<polyline fill=\"none\" stroke=\"black\" points=\"844.25,-83 844.25,-118.5\"/>\n",
       "<text text-anchor=\"middle\" x=\"884.88\" y=\"-95.7\" font-family=\"Times,serif\" font-size=\"14.00\">grad 0.6347</text>\n",
       "</g>\n",
       "<!-- 4953343824+ -->\n",
       "<g id=\"node10\" class=\"node\">\n",
       "<title>4953343824+</title>\n",
       "<ellipse fill=\"none\" stroke=\"black\" cx=\"988.5\" cy=\"-72.5\" rx=\"27\" ry=\"18\"/>\n",
       "<text text-anchor=\"middle\" x=\"988.5\" y=\"-67.45\" font-family=\"Times,serif\" font-size=\"14.00\">+</text>\n",
       "</g>\n",
       "<!-- 4953344080&#45;&gt;4953343824+ -->\n",
       "<g id=\"edge9\" class=\"edge\">\n",
       "<title>4953344080&#45;&gt;4953343824+</title>\n",
       "<path fill=\"none\" stroke=\"black\" d=\"M923.04,-82.02C932.9,-80.56 942.28,-79.18 950.67,-77.94\"/>\n",
       "<polygon fill=\"black\" stroke=\"black\" points=\"950.94,-81.44 960.33,-76.51 949.92,-74.51 950.94,-81.44\"/>\n",
       "</g>\n",
       "<!-- 4953344080+ -->\n",
       "<g id=\"node4\" class=\"node\">\n",
       "<title>4953344080+</title>\n",
       "<ellipse fill=\"none\" stroke=\"black\" cx=\"605.25\" cy=\"-100.5\" rx=\"27\" ry=\"18\"/>\n",
       "<text text-anchor=\"middle\" x=\"605.25\" y=\"-95.45\" font-family=\"Times,serif\" font-size=\"14.00\">+</text>\n",
       "</g>\n",
       "<!-- 4953344080+&#45;&gt;4953344080 -->\n",
       "<g id=\"edge2\" class=\"edge\">\n",
       "<title>4953344080+&#45;&gt;4953344080</title>\n",
       "<path fill=\"none\" stroke=\"black\" d=\"M632.62,-100.5C639.63,-100.5 647.71,-100.5 656.45,-100.5\"/>\n",
       "<polygon fill=\"black\" stroke=\"black\" points=\"656.32,-104 666.32,-100.5 656.32,-97 656.32,-104\"/>\n",
       "</g>\n",
       "<!-- 4950896208 -->\n",
       "<g id=\"node5\" class=\"node\">\n",
       "<title>4950896208</title>\n",
       "<polygon fill=\"none\" stroke=\"black\" points=\"2.25,-165.5 2.25,-201.5 195.75,-201.5 195.75,-165.5 2.25,-165.5\"/>\n",
       "<text text-anchor=\"middle\" x=\"18.5\" y=\"-178.7\" font-family=\"Times,serif\" font-size=\"14.00\">w2</text>\n",
       "<polyline fill=\"none\" stroke=\"black\" points=\"34.75,-166 34.75,-201.5\"/>\n",
       "<text text-anchor=\"middle\" x=\"74.62\" y=\"-178.7\" font-family=\"Times,serif\" font-size=\"14.00\">data 1.0000</text>\n",
       "<polyline fill=\"none\" stroke=\"black\" points=\"114.5,-166 114.5,-201.5\"/>\n",
       "<text text-anchor=\"middle\" x=\"155.12\" y=\"-178.7\" font-family=\"Times,serif\" font-size=\"14.00\">grad 0.0000</text>\n",
       "</g>\n",
       "<!-- 4953353040* -->\n",
       "<g id=\"node12\" class=\"node\">\n",
       "<title>4953353040*</title>\n",
       "<ellipse fill=\"none\" stroke=\"black\" cx=\"261\" cy=\"-128.5\" rx=\"27\" ry=\"18\"/>\n",
       "<text text-anchor=\"middle\" x=\"261\" y=\"-123.45\" font-family=\"Times,serif\" font-size=\"14.00\">*</text>\n",
       "</g>\n",
       "<!-- 4950896208&#45;&gt;4953353040* -->\n",
       "<g id=\"edge12\" class=\"edge\">\n",
       "<title>4950896208&#45;&gt;4953353040*</title>\n",
       "<path fill=\"none\" stroke=\"black\" d=\"M172.12,-165.01C180.9,-162.35 189.7,-159.5 198,-156.5 208.09,-152.86 218.82,-148.27 228.47,-143.88\"/>\n",
       "<polygon fill=\"black\" stroke=\"black\" points=\"229.86,-147.09 237.45,-139.69 226.9,-140.75 229.86,-147.09\"/>\n",
       "</g>\n",
       "<!-- 4952537744 -->\n",
       "<g id=\"node6\" class=\"node\">\n",
       "<title>4952537744</title>\n",
       "<polygon fill=\"none\" stroke=\"black\" points=\"1.5,-55.5 1.5,-91.5 196.5,-91.5 196.5,-55.5 1.5,-55.5\"/>\n",
       "<text text-anchor=\"middle\" x=\"16.25\" y=\"-68.7\" font-family=\"Times,serif\" font-size=\"14.00\">x1</text>\n",
       "<polyline fill=\"none\" stroke=\"black\" points=\"31,-56 31,-91.5\"/>\n",
       "<text text-anchor=\"middle\" x=\"70.88\" y=\"-68.7\" font-family=\"Times,serif\" font-size=\"14.00\">data 2.0000</text>\n",
       "<polyline fill=\"none\" stroke=\"black\" points=\"110.75,-56 110.75,-91.5\"/>\n",
       "<text text-anchor=\"middle\" x=\"153.62\" y=\"-68.7\" font-family=\"Times,serif\" font-size=\"14.00\">grad &#45;1.9042</text>\n",
       "</g>\n",
       "<!-- 4953355664* -->\n",
       "<g id=\"node14\" class=\"node\">\n",
       "<title>4953355664*</title>\n",
       "<ellipse fill=\"none\" stroke=\"black\" cx=\"261\" cy=\"-73.5\" rx=\"27\" ry=\"18\"/>\n",
       "<text text-anchor=\"middle\" x=\"261\" y=\"-68.45\" font-family=\"Times,serif\" font-size=\"14.00\">*</text>\n",
       "</g>\n",
       "<!-- 4952537744&#45;&gt;4953355664* -->\n",
       "<g id=\"edge7\" class=\"edge\">\n",
       "<title>4952537744&#45;&gt;4953355664*</title>\n",
       "<path fill=\"none\" stroke=\"black\" d=\"M196.76,-73.5C205.77,-73.5 214.47,-73.5 222.4,-73.5\"/>\n",
       "<polygon fill=\"black\" stroke=\"black\" points=\"222.25,-77 232.25,-73.5 222.25,-70 222.25,-77\"/>\n",
       "</g>\n",
       "<!-- 4950890704 -->\n",
       "<g id=\"node7\" class=\"node\">\n",
       "<title>4950890704</title>\n",
       "<polygon fill=\"none\" stroke=\"black\" points=\"3.75,-110.5 3.75,-146.5 194.25,-146.5 194.25,-110.5 3.75,-110.5\"/>\n",
       "<text text-anchor=\"middle\" x=\"18.5\" y=\"-123.7\" font-family=\"Times,serif\" font-size=\"14.00\">x2</text>\n",
       "<polyline fill=\"none\" stroke=\"black\" points=\"33.25,-111 33.25,-146.5\"/>\n",
       "<text text-anchor=\"middle\" x=\"73.12\" y=\"-123.7\" font-family=\"Times,serif\" font-size=\"14.00\">data 0.0000</text>\n",
       "<polyline fill=\"none\" stroke=\"black\" points=\"113,-111 113,-146.5\"/>\n",
       "<text text-anchor=\"middle\" x=\"153.62\" y=\"-123.7\" font-family=\"Times,serif\" font-size=\"14.00\">grad 0.6347</text>\n",
       "</g>\n",
       "<!-- 4950890704&#45;&gt;4953353040* -->\n",
       "<g id=\"edge13\" class=\"edge\">\n",
       "<title>4950890704&#45;&gt;4953353040*</title>\n",
       "<path fill=\"none\" stroke=\"black\" d=\"M194.46,-128.5C204.21,-128.5 213.66,-128.5 222.21,-128.5\"/>\n",
       "<polygon fill=\"black\" stroke=\"black\" points=\"222.12,-132 232.12,-128.5 222.12,-125 222.12,-132\"/>\n",
       "</g>\n",
       "<!-- 4950890256 -->\n",
       "<g id=\"node8\" class=\"node\">\n",
       "<title>4950890256</title>\n",
       "<polygon fill=\"none\" stroke=\"black\" points=\"0,-0.5 0,-36.5 198,-36.5 198,-0.5 0,-0.5\"/>\n",
       "<text text-anchor=\"middle\" x=\"16.25\" y=\"-13.7\" font-family=\"Times,serif\" font-size=\"14.00\">w1</text>\n",
       "<polyline fill=\"none\" stroke=\"black\" points=\"32.5,-1 32.5,-36.5\"/>\n",
       "<text text-anchor=\"middle\" x=\"74.62\" y=\"-13.7\" font-family=\"Times,serif\" font-size=\"14.00\">data &#45;3.0000</text>\n",
       "<polyline fill=\"none\" stroke=\"black\" points=\"116.75,-1 116.75,-36.5\"/>\n",
       "<text text-anchor=\"middle\" x=\"157.38\" y=\"-13.7\" font-family=\"Times,serif\" font-size=\"14.00\">grad 1.2695</text>\n",
       "</g>\n",
       "<!-- 4950890256&#45;&gt;4953355664* -->\n",
       "<g id=\"edge8\" class=\"edge\">\n",
       "<title>4950890256&#45;&gt;4953355664*</title>\n",
       "<path fill=\"none\" stroke=\"black\" d=\"M172.12,-36.99C180.9,-39.65 189.7,-42.5 198,-45.5 208.09,-49.14 218.82,-53.73 228.47,-58.12\"/>\n",
       "<polygon fill=\"black\" stroke=\"black\" points=\"226.9,-61.25 237.45,-62.31 229.86,-54.91 226.9,-61.25\"/>\n",
       "</g>\n",
       "<!-- 4953343824 -->\n",
       "<g id=\"node9\" class=\"node\">\n",
       "<title>4953343824</title>\n",
       "<polygon fill=\"none\" stroke=\"black\" points=\"1051.5,-54.5 1051.5,-90.5 1235.25,-90.5 1235.25,-54.5 1051.5,-54.5\"/>\n",
       "<text text-anchor=\"middle\" x=\"1062.88\" y=\"-67.7\" font-family=\"Times,serif\" font-size=\"14.00\">n</text>\n",
       "<polyline fill=\"none\" stroke=\"black\" points=\"1074.25,-55 1074.25,-90.5\"/>\n",
       "<text text-anchor=\"middle\" x=\"1114.12\" y=\"-67.7\" font-family=\"Times,serif\" font-size=\"14.00\">data 0.7000</text>\n",
       "<polyline fill=\"none\" stroke=\"black\" points=\"1154,-55 1154,-90.5\"/>\n",
       "<text text-anchor=\"middle\" x=\"1194.62\" y=\"-67.7\" font-family=\"Times,serif\" font-size=\"14.00\">grad 0.6347</text>\n",
       "</g>\n",
       "<!-- 4953343824&#45;&gt;4953350224tanh -->\n",
       "<g id=\"edge11\" class=\"edge\">\n",
       "<title>4953343824&#45;&gt;4953350224tanh</title>\n",
       "<path fill=\"none\" stroke=\"black\" d=\"M1235.51,-72.5C1243.89,-72.5 1252.02,-72.5 1259.48,-72.5\"/>\n",
       "<polygon fill=\"black\" stroke=\"black\" points=\"1259.45,-76 1269.45,-72.5 1259.45,-69 1259.45,-76\"/>\n",
       "</g>\n",
       "<!-- 4953343824+&#45;&gt;4953343824 -->\n",
       "<g id=\"edge3\" class=\"edge\">\n",
       "<title>4953343824+&#45;&gt;4953343824</title>\n",
       "<path fill=\"none\" stroke=\"black\" d=\"M1015.78,-72.5C1022.92,-72.5 1031.11,-72.5 1039.82,-72.5\"/>\n",
       "<polygon fill=\"black\" stroke=\"black\" points=\"1039.56,-76 1049.56,-72.5 1039.56,-69 1039.56,-76\"/>\n",
       "</g>\n",
       "<!-- 4953353040 -->\n",
       "<g id=\"node11\" class=\"node\">\n",
       "<title>4953353040</title>\n",
       "<polygon fill=\"none\" stroke=\"black\" points=\"326.25,-110.5 326.25,-146.5 540,-146.5 540,-110.5 326.25,-110.5\"/>\n",
       "<text text-anchor=\"middle\" x=\"352.62\" y=\"-123.7\" font-family=\"Times,serif\" font-size=\"14.00\">x2*w2</text>\n",
       "<polyline fill=\"none\" stroke=\"black\" points=\"379,-111 379,-146.5\"/>\n",
       "<text text-anchor=\"middle\" x=\"418.88\" y=\"-123.7\" font-family=\"Times,serif\" font-size=\"14.00\">data 0.0000</text>\n",
       "<polyline fill=\"none\" stroke=\"black\" points=\"458.75,-111 458.75,-146.5\"/>\n",
       "<text text-anchor=\"middle\" x=\"499.38\" y=\"-123.7\" font-family=\"Times,serif\" font-size=\"14.00\">grad 0.6347</text>\n",
       "</g>\n",
       "<!-- 4953353040&#45;&gt;4953344080+ -->\n",
       "<g id=\"edge6\" class=\"edge\">\n",
       "<title>4953353040&#45;&gt;4953344080+</title>\n",
       "<path fill=\"none\" stroke=\"black\" d=\"M540.42,-111.01C549.89,-109.45 559,-107.95 567.21,-106.6\"/>\n",
       "<polygon fill=\"black\" stroke=\"black\" points=\"567.75,-110.05 577.05,-104.98 566.62,-103.15 567.75,-110.05\"/>\n",
       "</g>\n",
       "<!-- 4953353040*&#45;&gt;4953353040 -->\n",
       "<g id=\"edge4\" class=\"edge\">\n",
       "<title>4953353040*&#45;&gt;4953353040</title>\n",
       "<path fill=\"none\" stroke=\"black\" d=\"M288.21,-128.5C296,-128.5 305.08,-128.5 314.82,-128.5\"/>\n",
       "<polygon fill=\"black\" stroke=\"black\" points=\"314.55,-132 324.55,-128.5 314.55,-125 314.55,-132\"/>\n",
       "</g>\n",
       "<!-- 4953355664 -->\n",
       "<g id=\"node13\" class=\"node\">\n",
       "<title>4953355664</title>\n",
       "<polygon fill=\"none\" stroke=\"black\" points=\"324,-55.5 324,-91.5 542.25,-91.5 542.25,-55.5 324,-55.5\"/>\n",
       "<text text-anchor=\"middle\" x=\"350.38\" y=\"-68.7\" font-family=\"Times,serif\" font-size=\"14.00\">x1*w1</text>\n",
       "<polyline fill=\"none\" stroke=\"black\" points=\"376.75,-56 376.75,-91.5\"/>\n",
       "<text text-anchor=\"middle\" x=\"418.88\" y=\"-68.7\" font-family=\"Times,serif\" font-size=\"14.00\">data &#45;6.0000</text>\n",
       "<polyline fill=\"none\" stroke=\"black\" points=\"461,-56 461,-91.5\"/>\n",
       "<text text-anchor=\"middle\" x=\"501.62\" y=\"-68.7\" font-family=\"Times,serif\" font-size=\"14.00\">grad 0.6347</text>\n",
       "</g>\n",
       "<!-- 4953355664&#45;&gt;4953344080+ -->\n",
       "<g id=\"edge10\" class=\"edge\">\n",
       "<title>4953355664&#45;&gt;4953344080+</title>\n",
       "<path fill=\"none\" stroke=\"black\" d=\"M542.35,-90.68C551.12,-92.07 559.54,-93.4 567.19,-94.62\"/>\n",
       "<polygon fill=\"black\" stroke=\"black\" points=\"566.59,-98.07 577.02,-96.18 567.69,-91.15 566.59,-98.07\"/>\n",
       "</g>\n",
       "<!-- 4953355664*&#45;&gt;4953355664 -->\n",
       "<g id=\"edge5\" class=\"edge\">\n",
       "<title>4953355664*&#45;&gt;4953355664</title>\n",
       "<path fill=\"none\" stroke=\"black\" d=\"M288.21,-73.5C295.29,-73.5 303.43,-73.5 312.17,-73.5\"/>\n",
       "<polygon fill=\"black\" stroke=\"black\" points=\"312.01,-77 322.01,-73.5 312.01,-70 312.01,-77\"/>\n",
       "</g>\n",
       "<!-- 4950895568 -->\n",
       "<g id=\"node15\" class=\"node\">\n",
       "<title>4950895568</title>\n",
       "<polygon fill=\"none\" stroke=\"black\" points=\"705,-27.5 705,-63.5 888.75,-63.5 888.75,-27.5 705,-27.5\"/>\n",
       "<text text-anchor=\"middle\" x=\"716.38\" y=\"-40.7\" font-family=\"Times,serif\" font-size=\"14.00\">b</text>\n",
       "<polyline fill=\"none\" stroke=\"black\" points=\"727.75,-28 727.75,-63.5\"/>\n",
       "<text text-anchor=\"middle\" x=\"767.62\" y=\"-40.7\" font-family=\"Times,serif\" font-size=\"14.00\">data 6.7000</text>\n",
       "<polyline fill=\"none\" stroke=\"black\" points=\"807.5,-28 807.5,-63.5\"/>\n",
       "<text text-anchor=\"middle\" x=\"848.12\" y=\"-40.7\" font-family=\"Times,serif\" font-size=\"14.00\">grad 0.6347</text>\n",
       "</g>\n",
       "<!-- 4950895568&#45;&gt;4953343824+ -->\n",
       "<g id=\"edge14\" class=\"edge\">\n",
       "<title>4950895568&#45;&gt;4953343824+</title>\n",
       "<path fill=\"none\" stroke=\"black\" d=\"M889.08,-58.49C910.92,-61.6 933.02,-64.74 950.73,-67.26\"/>\n",
       "<polygon fill=\"black\" stroke=\"black\" points=\"950.07,-70.71 960.46,-68.65 951.05,-63.78 950.07,-70.71\"/>\n",
       "</g>\n",
       "</g>\n",
       "</svg>\n"
      ],
      "text/plain": [
       "<graphviz.graphs.Digraph at 0x1271baad0>"
      ]
     },
     "execution_count": 147,
     "metadata": {},
     "output_type": "execute_result"
    }
   ],
   "source": [
    "\n",
    "draw_dot(o)"
   ]
  },
  {
   "cell_type": "code",
   "execution_count": 146,
   "metadata": {},
   "outputs": [],
   "source": [
    "o.backward()"
   ]
  },
  {
   "cell_type": "code",
   "execution_count": 141,
   "metadata": {},
   "outputs": [],
   "source": [
    "o.grad = 1.0\n",
    "\n",
    "topo = []\n",
    "\n",
    "visited = set()\n",
    "def build_topo(v):\n",
    "    if v not in visited:\n",
    "        visited.add(v)\n",
    "        for child in v._prev:\n",
    "            build_topo(child)\n",
    "        topo.append(v)\n",
    "build_topo(o)\n",
    "\n",
    "for node in reversed(topo):\n",
    "    node._backward()"
   ]
  },
  {
   "cell_type": "code",
   "execution_count": 131,
   "metadata": {},
   "outputs": [
    {
     "data": {
      "text/plain": [
       "[Value(data=6.7),\n",
       " Value(data=0.0),\n",
       " Value(data=1.0),\n",
       " Value(data=0.0),\n",
       " Value(data=2.0),\n",
       " Value(data=-3.0),\n",
       " Value(data=-6.0),\n",
       " Value(data=-6.0),\n",
       " Value(data=0.7000000000000002),\n",
       " Value(data=0.6043677771171636)]"
      ]
     },
     "execution_count": 131,
     "metadata": {},
     "output_type": "execute_result"
    }
   ],
   "source": [
    "topo = []\n",
    "visited = set()\n",
    "def build_topo(v):\n",
    "    if v not in visited:\n",
    "        visited.add(v)\n",
    "        for child in v._prev:\n",
    "            build_topo(child)\n",
    "        topo.append(v)\n",
    "build_topo(o)\n",
    "topo"
   ]
  },
  {
   "cell_type": "code",
   "execution_count": 93,
   "metadata": {},
   "outputs": [],
   "source": [
    "o._backward()\n",
    "# o.grad =1"
   ]
  },
  {
   "cell_type": "code",
   "execution_count": 95,
   "metadata": {},
   "outputs": [],
   "source": [
    "n._backward()"
   ]
  },
  {
   "cell_type": "code",
   "execution_count": 98,
   "metadata": {},
   "outputs": [],
   "source": [
    "x1w1x2w2._backward()"
   ]
  },
  {
   "cell_type": "code",
   "execution_count": 99,
   "metadata": {},
   "outputs": [],
   "source": [
    "x2w2._backward()\n",
    "x1w1._backward()"
   ]
  },
  {
   "cell_type": "code",
   "execution_count": 64,
   "metadata": {},
   "outputs": [],
   "source": [
    "# o = tanh(n)\n",
    "# do/dn = 1 - tanh(n)**2\n",
    "x1.grad = w1.data*x1w1.grad\n",
    "w1.grad = x1.data*x1w1.grad"
   ]
  },
  {
   "cell_type": "code",
   "execution_count": 56,
   "metadata": {},
   "outputs": [
    {
     "data": {
      "text/plain": [
       "0.6347395899824584"
      ]
     },
     "execution_count": 56,
     "metadata": {},
     "output_type": "execute_result"
    }
   ],
   "source": [
    "# d._prev\n",
    "1-o.data**2"
   ]
  },
  {
   "cell_type": "code",
   "execution_count": 45,
   "metadata": {},
   "outputs": [
    {
     "data": {
      "text/plain": [
       "'+'"
      ]
     },
     "execution_count": 45,
     "metadata": {},
     "output_type": "execute_result"
    }
   ],
   "source": [
    "d._op"
   ]
  },
  {
   "cell_type": "code",
   "execution_count": 152,
   "metadata": {},
   "outputs": [
    {
     "data": {
      "image/svg+xml": [
       "<?xml version=\"1.0\" encoding=\"UTF-8\" standalone=\"no\"?>\n",
       "<!DOCTYPE svg PUBLIC \"-//W3C//DTD SVG 1.1//EN\"\n",
       " \"http://www.w3.org/Graphics/SVG/1.1/DTD/svg11.dtd\">\n",
       "<!-- Generated by graphviz version 9.0.0 (20230911.1827)\n",
       " -->\n",
       "<!-- Pages: 1 -->\n",
       "<svg width=\"501pt\" height=\"45pt\"\n",
       " viewBox=\"0.00 0.00 500.75 45.00\" xmlns=\"http://www.w3.org/2000/svg\" xmlns:xlink=\"http://www.w3.org/1999/xlink\">\n",
       "<g id=\"graph0\" class=\"graph\" transform=\"scale(1 1) rotate(0) translate(4 41)\">\n",
       "<polygon fill=\"white\" stroke=\"none\" points=\"-4,4 -4,-41 496.75,-41 496.75,4 -4,4\"/>\n",
       "<!-- 4859869328 -->\n",
       "<g id=\"node1\" class=\"node\">\n",
       "<title>4859869328</title>\n",
       "<polygon fill=\"none\" stroke=\"black\" points=\"0,-0.5 0,-36.5 183,-36.5 183,-0.5 0,-0.5\"/>\n",
       "<text text-anchor=\"middle\" x=\"11\" y=\"-13.7\" font-family=\"Times,serif\" font-size=\"14.00\">a</text>\n",
       "<polyline fill=\"none\" stroke=\"black\" points=\"22,-1 22,-36.5\"/>\n",
       "<text text-anchor=\"middle\" x=\"61.88\" y=\"-13.7\" font-family=\"Times,serif\" font-size=\"14.00\">data 3.0000</text>\n",
       "<polyline fill=\"none\" stroke=\"black\" points=\"101.75,-1 101.75,-36.5\"/>\n",
       "<text text-anchor=\"middle\" x=\"142.38\" y=\"-13.7\" font-family=\"Times,serif\" font-size=\"14.00\">grad 2.0000</text>\n",
       "</g>\n",
       "<!-- 4951839440+ -->\n",
       "<g id=\"node3\" class=\"node\">\n",
       "<title>4951839440+</title>\n",
       "<ellipse fill=\"none\" stroke=\"black\" cx=\"246\" cy=\"-18.5\" rx=\"27\" ry=\"18\"/>\n",
       "<text text-anchor=\"middle\" x=\"246\" y=\"-13.45\" font-family=\"Times,serif\" font-size=\"14.00\">+</text>\n",
       "</g>\n",
       "<!-- 4859869328&#45;&gt;4951839440+ -->\n",
       "<g id=\"edge2\" class=\"edge\">\n",
       "<title>4859869328&#45;&gt;4951839440+</title>\n",
       "<path fill=\"none\" stroke=\"black\" d=\"M183.41,-18.5C191.77,-18.5 199.88,-18.5 207.32,-18.5\"/>\n",
       "<polygon fill=\"black\" stroke=\"black\" points=\"207.26,-22 217.26,-18.5 207.26,-15 207.26,-22\"/>\n",
       "</g>\n",
       "<!-- 4951839440 -->\n",
       "<g id=\"node2\" class=\"node\">\n",
       "<title>4951839440</title>\n",
       "<polygon fill=\"none\" stroke=\"black\" points=\"309,-0.5 309,-36.5 492.75,-36.5 492.75,-0.5 309,-0.5\"/>\n",
       "<text text-anchor=\"middle\" x=\"320.38\" y=\"-13.7\" font-family=\"Times,serif\" font-size=\"14.00\">b</text>\n",
       "<polyline fill=\"none\" stroke=\"black\" points=\"331.75,-1 331.75,-36.5\"/>\n",
       "<text text-anchor=\"middle\" x=\"371.62\" y=\"-13.7\" font-family=\"Times,serif\" font-size=\"14.00\">data 6.0000</text>\n",
       "<polyline fill=\"none\" stroke=\"black\" points=\"411.5,-1 411.5,-36.5\"/>\n",
       "<text text-anchor=\"middle\" x=\"452.12\" y=\"-13.7\" font-family=\"Times,serif\" font-size=\"14.00\">grad 1.0000</text>\n",
       "</g>\n",
       "<!-- 4951839440+&#45;&gt;4951839440 -->\n",
       "<g id=\"edge1\" class=\"edge\">\n",
       "<title>4951839440+&#45;&gt;4951839440</title>\n",
       "<path fill=\"none\" stroke=\"black\" d=\"M273.28,-18.5C280.42,-18.5 288.61,-18.5 297.32,-18.5\"/>\n",
       "<polygon fill=\"black\" stroke=\"black\" points=\"297.06,-22 307.06,-18.5 297.06,-15 297.06,-22\"/>\n",
       "</g>\n",
       "</g>\n",
       "</svg>\n"
      ],
      "text/plain": [
       "<graphviz.graphs.Digraph at 0x127059010>"
      ]
     },
     "execution_count": 152,
     "metadata": {},
     "output_type": "execute_result"
    }
   ],
   "source": [
    "a = Value(3.0, label='a')\n",
    "b = a + a ; b.label = 'b'\n",
    "# b.grad=1\n",
    "b.backward()\n",
    "draw_dot(b)"
   ]
  },
  {
   "cell_type": "markdown",
   "metadata": {},
   "source": []
  }
 ],
 "metadata": {
  "kernelspec": {
   "display_name": "tf",
   "language": "python",
   "name": "python3"
  },
  "language_info": {
   "codemirror_mode": {
    "name": "ipython",
    "version": 3
   },
   "file_extension": ".py",
   "mimetype": "text/x-python",
   "name": "python",
   "nbconvert_exporter": "python",
   "pygments_lexer": "ipython3",
   "version": "3.11.5"
  }
 },
 "nbformat": 4,
 "nbformat_minor": 2
}
